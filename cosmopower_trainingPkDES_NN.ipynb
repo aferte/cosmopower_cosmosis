{
  "nbformat": 4,
  "nbformat_minor": 0,
  "metadata": {
    "colab": {
      "provenance": [],
      "authorship_tag": "ABX9TyPhLoOlTt/peMErDA70AtHl",
      "include_colab_link": true
    },
    "kernelspec": {
      "name": "python3",
      "display_name": "Python 3"
    },
    "language_info": {
      "name": "python"
    },
    "accelerator": "GPU",
    "gpuClass": "standard"
  },
  "cells": [
    {
      "cell_type": "markdown",
      "metadata": {
        "id": "view-in-github",
        "colab_type": "text"
      },
      "source": [
        "<a href=\"https://colab.research.google.com/github/aferte/cosmopower_cosmosis/blob/master/cosmopower_trainingPkDES_NN.ipynb\" target=\"_parent\"><img src=\"https://colab.research.google.com/assets/colab-badge.svg\" alt=\"Open In Colab\"/></a>"
      ]
    },
    {
      "cell_type": "markdown",
      "source": [
        "Based on https://colab.research.google.com/drive/1eiDX_P0fxcuxv530xr2iceaPbY4CA5pD#scrollTo=YYsBo-3R1Nl-\n",
        "Here we want train an NN on P(k) with DES parameters and priors"
      ],
      "metadata": {
        "id": "oiGnST0FtBpE"
      }
    },
    {
      "cell_type": "code",
      "source": [
        "%tensorflow_version 2.x\n",
        "import tensorflow as tf\n",
        "%matplotlib inline\n",
        "import numpy as np\n",
        "import matplotlib.pyplot as plt\n",
        "import os\n",
        "from IPython.display import display, clear_output"
      ],
      "metadata": {
        "id": "IrqydEHKtPi8"
      },
      "execution_count": null,
      "outputs": []
    },
    {
      "cell_type": "code",
      "source": [
        "# checking that we are using a GPU\n",
        "gpu_info = !nvidia-smi\n",
        "gpu_info = '\\n'.join(gpu_info)\n",
        "if gpu_info.find('failed') >= 0:\n",
        "  print('Select the Runtime > \"Change runtime type\" menu to enable a GPU accelerator, ')\n",
        "  print('and then re-execute this cell.')\n",
        "else:\n",
        "  print(gpu_info)"
      ],
      "metadata": {
        "colab": {
          "base_uri": "https://localhost:8080/"
        },
        "id": "EHSVJbhytRem",
        "outputId": "a2eacb68-43e8-4aed-a27f-da180d042ab7"
      },
      "execution_count": null,
      "outputs": [
        {
          "output_type": "stream",
          "name": "stdout",
          "text": [
            "Sun Jul 17 03:04:53 2022       \n",
            "+-----------------------------------------------------------------------------+\n",
            "| NVIDIA-SMI 460.32.03    Driver Version: 460.32.03    CUDA Version: 11.2     |\n",
            "|-------------------------------+----------------------+----------------------+\n",
            "| GPU  Name        Persistence-M| Bus-Id        Disp.A | Volatile Uncorr. ECC |\n",
            "| Fan  Temp  Perf  Pwr:Usage/Cap|         Memory-Usage | GPU-Util  Compute M. |\n",
            "|                               |                      |               MIG M. |\n",
            "|===============================+======================+======================|\n",
            "|   0  Tesla T4            Off  | 00000000:00:04.0 Off |                    0 |\n",
            "| N/A   38C    P8     9W /  70W |      0MiB / 15109MiB |      0%      Default |\n",
            "|                               |                      |                  N/A |\n",
            "+-------------------------------+----------------------+----------------------+\n",
            "                                                                               \n",
            "+-----------------------------------------------------------------------------+\n",
            "| Processes:                                                                  |\n",
            "|  GPU   GI   CI        PID   Type   Process name                  GPU Memory |\n",
            "|        ID   ID                                                   Usage      |\n",
            "|=============================================================================|\n",
            "|  No running processes found                                                 |\n",
            "+-----------------------------------------------------------------------------+\n"
          ]
        }
      ]
    },
    {
      "cell_type": "code",
      "source": [
        "device_name = tf.test.gpu_device_name()\n",
        "if device_name != '/device:GPU:0':\n",
        "  raise SystemError('GPU device not found')"
      ],
      "metadata": {
        "id": "WSYJlnP8tY2J"
      },
      "execution_count": null,
      "outputs": []
    },
    {
      "cell_type": "code",
      "source": [
        "# setting the seed for reproducibility\n",
        "np.random.seed(1)\n",
        "tf.random.set_seed(2)"
      ],
      "metadata": {
        "id": "nSDZw6zpuqjT"
      },
      "execution_count": null,
      "outputs": []
    },
    {
      "cell_type": "markdown",
      "source": [
        "Installing cosmopower"
      ],
      "metadata": {
        "id": "s4xbR2Rlu1aL"
      }
    },
    {
      "cell_type": "code",
      "source": [
        "!pip install cosmopower"
      ],
      "metadata": {
        "colab": {
          "base_uri": "https://localhost:8080/",
          "height": 1000
        },
        "id": "8CClFBSXuy_w",
        "outputId": "78bf77a1-e110-4870-894f-f90f85f0ec40"
      },
      "execution_count": null,
      "outputs": [
        {
          "output_type": "stream",
          "name": "stdout",
          "text": [
            "Looking in indexes: https://pypi.org/simple, https://us-python.pkg.dev/colab-wheels/public/simple/\n",
            "Collecting cosmopower\n",
            "  Downloading cosmopower-0.1.0-py3-none-any.whl (35 kB)\n",
            "Collecting pyDOE\n",
            "  Downloading pyDOE-0.3.8.zip (22 kB)\n",
            "Collecting mkdocs-material\n",
            "  Downloading mkdocs_material-8.3.9-py2.py3-none-any.whl (5.3 MB)\n",
            "\u001b[K     |████████████████████████████████| 5.3 MB 12.6 MB/s \n",
            "\u001b[?25hRequirement already satisfied: pytest in /usr/local/lib/python3.7/dist-packages (from cosmopower) (3.6.4)\n",
            "Collecting mkdocstrings\n",
            "  Downloading mkdocstrings-0.19.0-py3-none-any.whl (25 kB)\n",
            "Requirement already satisfied: jupyter in /usr/local/lib/python3.7/dist-packages (from cosmopower) (1.0.0)\n",
            "Requirement already satisfied: tensorflow-probability in /usr/local/lib/python3.7/dist-packages (from cosmopower) (0.16.0)\n",
            "Requirement already satisfied: sklearn in /usr/local/lib/python3.7/dist-packages (from cosmopower) (0.0)\n",
            "Requirement already satisfied: matplotlib in /usr/local/lib/python3.7/dist-packages (from cosmopower) (3.2.2)\n",
            "Requirement already satisfied: tqdm in /usr/local/lib/python3.7/dist-packages (from cosmopower) (4.64.0)\n",
            "Requirement already satisfied: tensorflow>2.0 in /usr/local/lib/python3.7/dist-packages (from cosmopower) (2.8.2+zzzcolab20220527125636)\n",
            "Requirement already satisfied: gdown in /usr/local/lib/python3.7/dist-packages (from cosmopower) (4.4.0)\n",
            "Requirement already satisfied: protobuf<3.20,>=3.9.2 in /usr/local/lib/python3.7/dist-packages (from tensorflow>2.0->cosmopower) (3.17.3)\n",
            "Requirement already satisfied: grpcio<2.0,>=1.24.3 in /usr/local/lib/python3.7/dist-packages (from tensorflow>2.0->cosmopower) (1.47.0)\n",
            "Requirement already satisfied: opt-einsum>=2.3.2 in /usr/local/lib/python3.7/dist-packages (from tensorflow>2.0->cosmopower) (3.3.0)\n",
            "Requirement already satisfied: tensorflow-estimator<2.9,>=2.8 in /usr/local/lib/python3.7/dist-packages (from tensorflow>2.0->cosmopower) (2.8.0)\n",
            "Requirement already satisfied: tensorboard<2.9,>=2.8 in /usr/local/lib/python3.7/dist-packages (from tensorflow>2.0->cosmopower) (2.8.0)\n",
            "Requirement already satisfied: absl-py>=0.4.0 in /usr/local/lib/python3.7/dist-packages (from tensorflow>2.0->cosmopower) (1.1.0)\n",
            "Requirement already satisfied: gast>=0.2.1 in /usr/local/lib/python3.7/dist-packages (from tensorflow>2.0->cosmopower) (0.5.3)\n",
            "Requirement already satisfied: keras-preprocessing>=1.1.1 in /usr/local/lib/python3.7/dist-packages (from tensorflow>2.0->cosmopower) (1.1.2)\n",
            "Requirement already satisfied: typing-extensions>=3.6.6 in /usr/local/lib/python3.7/dist-packages (from tensorflow>2.0->cosmopower) (4.1.1)\n",
            "Requirement already satisfied: keras<2.9,>=2.8.0rc0 in /usr/local/lib/python3.7/dist-packages (from tensorflow>2.0->cosmopower) (2.8.0)\n",
            "Requirement already satisfied: numpy>=1.20 in /usr/local/lib/python3.7/dist-packages (from tensorflow>2.0->cosmopower) (1.21.6)\n",
            "Requirement already satisfied: h5py>=2.9.0 in /usr/local/lib/python3.7/dist-packages (from tensorflow>2.0->cosmopower) (3.1.0)\n",
            "Requirement already satisfied: setuptools in /usr/local/lib/python3.7/dist-packages (from tensorflow>2.0->cosmopower) (57.4.0)\n",
            "Requirement already satisfied: libclang>=9.0.1 in /usr/local/lib/python3.7/dist-packages (from tensorflow>2.0->cosmopower) (14.0.1)\n",
            "Requirement already satisfied: flatbuffers>=1.12 in /usr/local/lib/python3.7/dist-packages (from tensorflow>2.0->cosmopower) (2.0)\n",
            "Requirement already satisfied: tensorflow-io-gcs-filesystem>=0.23.1 in /usr/local/lib/python3.7/dist-packages (from tensorflow>2.0->cosmopower) (0.26.0)\n",
            "Requirement already satisfied: astunparse>=1.6.0 in /usr/local/lib/python3.7/dist-packages (from tensorflow>2.0->cosmopower) (1.6.3)\n",
            "Requirement already satisfied: termcolor>=1.1.0 in /usr/local/lib/python3.7/dist-packages (from tensorflow>2.0->cosmopower) (1.1.0)\n",
            "Requirement already satisfied: six>=1.12.0 in /usr/local/lib/python3.7/dist-packages (from tensorflow>2.0->cosmopower) (1.15.0)\n",
            "Requirement already satisfied: google-pasta>=0.1.1 in /usr/local/lib/python3.7/dist-packages (from tensorflow>2.0->cosmopower) (0.2.0)\n",
            "Requirement already satisfied: wrapt>=1.11.0 in /usr/local/lib/python3.7/dist-packages (from tensorflow>2.0->cosmopower) (1.14.1)\n",
            "Requirement already satisfied: wheel<1.0,>=0.23.0 in /usr/local/lib/python3.7/dist-packages (from astunparse>=1.6.0->tensorflow>2.0->cosmopower) (0.37.1)\n",
            "Requirement already satisfied: cached-property in /usr/local/lib/python3.7/dist-packages (from h5py>=2.9.0->tensorflow>2.0->cosmopower) (1.5.2)\n",
            "Requirement already satisfied: google-auth-oauthlib<0.5,>=0.4.1 in /usr/local/lib/python3.7/dist-packages (from tensorboard<2.9,>=2.8->tensorflow>2.0->cosmopower) (0.4.6)\n",
            "Requirement already satisfied: tensorboard-data-server<0.7.0,>=0.6.0 in /usr/local/lib/python3.7/dist-packages (from tensorboard<2.9,>=2.8->tensorflow>2.0->cosmopower) (0.6.1)\n",
            "Requirement already satisfied: tensorboard-plugin-wit>=1.6.0 in /usr/local/lib/python3.7/dist-packages (from tensorboard<2.9,>=2.8->tensorflow>2.0->cosmopower) (1.8.1)\n",
            "Requirement already satisfied: werkzeug>=0.11.15 in /usr/local/lib/python3.7/dist-packages (from tensorboard<2.9,>=2.8->tensorflow>2.0->cosmopower) (1.0.1)\n",
            "Requirement already satisfied: google-auth<3,>=1.6.3 in /usr/local/lib/python3.7/dist-packages (from tensorboard<2.9,>=2.8->tensorflow>2.0->cosmopower) (1.35.0)\n",
            "Requirement already satisfied: markdown>=2.6.8 in /usr/local/lib/python3.7/dist-packages (from tensorboard<2.9,>=2.8->tensorflow>2.0->cosmopower) (3.3.7)\n",
            "Requirement already satisfied: requests<3,>=2.21.0 in /usr/local/lib/python3.7/dist-packages (from tensorboard<2.9,>=2.8->tensorflow>2.0->cosmopower) (2.23.0)\n",
            "Requirement already satisfied: pyasn1-modules>=0.2.1 in /usr/local/lib/python3.7/dist-packages (from google-auth<3,>=1.6.3->tensorboard<2.9,>=2.8->tensorflow>2.0->cosmopower) (0.2.8)\n",
            "Requirement already satisfied: rsa<5,>=3.1.4 in /usr/local/lib/python3.7/dist-packages (from google-auth<3,>=1.6.3->tensorboard<2.9,>=2.8->tensorflow>2.0->cosmopower) (4.8)\n",
            "Requirement already satisfied: cachetools<5.0,>=2.0.0 in /usr/local/lib/python3.7/dist-packages (from google-auth<3,>=1.6.3->tensorboard<2.9,>=2.8->tensorflow>2.0->cosmopower) (4.2.4)\n",
            "Requirement already satisfied: requests-oauthlib>=0.7.0 in /usr/local/lib/python3.7/dist-packages (from google-auth-oauthlib<0.5,>=0.4.1->tensorboard<2.9,>=2.8->tensorflow>2.0->cosmopower) (1.3.1)\n",
            "Requirement already satisfied: importlib-metadata>=4.4 in /usr/local/lib/python3.7/dist-packages (from markdown>=2.6.8->tensorboard<2.9,>=2.8->tensorflow>2.0->cosmopower) (4.12.0)\n",
            "Requirement already satisfied: zipp>=0.5 in /usr/local/lib/python3.7/dist-packages (from importlib-metadata>=4.4->markdown>=2.6.8->tensorboard<2.9,>=2.8->tensorflow>2.0->cosmopower) (3.8.0)\n",
            "Requirement already satisfied: pyasn1<0.5.0,>=0.4.6 in /usr/local/lib/python3.7/dist-packages (from pyasn1-modules>=0.2.1->google-auth<3,>=1.6.3->tensorboard<2.9,>=2.8->tensorflow>2.0->cosmopower) (0.4.8)\n",
            "Requirement already satisfied: certifi>=2017.4.17 in /usr/local/lib/python3.7/dist-packages (from requests<3,>=2.21.0->tensorboard<2.9,>=2.8->tensorflow>2.0->cosmopower) (2022.6.15)\n",
            "Requirement already satisfied: idna<3,>=2.5 in /usr/local/lib/python3.7/dist-packages (from requests<3,>=2.21.0->tensorboard<2.9,>=2.8->tensorflow>2.0->cosmopower) (2.10)\n",
            "Requirement already satisfied: urllib3!=1.25.0,!=1.25.1,<1.26,>=1.21.1 in /usr/local/lib/python3.7/dist-packages (from requests<3,>=2.21.0->tensorboard<2.9,>=2.8->tensorflow>2.0->cosmopower) (1.24.3)\n",
            "Requirement already satisfied: chardet<4,>=3.0.2 in /usr/local/lib/python3.7/dist-packages (from requests<3,>=2.21.0->tensorboard<2.9,>=2.8->tensorflow>2.0->cosmopower) (3.0.4)\n",
            "Requirement already satisfied: oauthlib>=3.0.0 in /usr/local/lib/python3.7/dist-packages (from requests-oauthlib>=0.7.0->google-auth-oauthlib<0.5,>=0.4.1->tensorboard<2.9,>=2.8->tensorflow>2.0->cosmopower) (3.2.0)\n",
            "Requirement already satisfied: beautifulsoup4 in /usr/local/lib/python3.7/dist-packages (from gdown->cosmopower) (4.6.3)\n",
            "Requirement already satisfied: filelock in /usr/local/lib/python3.7/dist-packages (from gdown->cosmopower) (3.7.1)\n",
            "Requirement already satisfied: ipywidgets in /usr/local/lib/python3.7/dist-packages (from jupyter->cosmopower) (7.7.1)\n",
            "Requirement already satisfied: qtconsole in /usr/local/lib/python3.7/dist-packages (from jupyter->cosmopower) (5.3.1)\n",
            "Requirement already satisfied: nbconvert in /usr/local/lib/python3.7/dist-packages (from jupyter->cosmopower) (5.6.1)\n",
            "Requirement already satisfied: jupyter-console in /usr/local/lib/python3.7/dist-packages (from jupyter->cosmopower) (5.2.0)\n",
            "Requirement already satisfied: notebook in /usr/local/lib/python3.7/dist-packages (from jupyter->cosmopower) (5.3.1)\n",
            "Requirement already satisfied: ipykernel in /usr/local/lib/python3.7/dist-packages (from jupyter->cosmopower) (4.10.1)\n",
            "Requirement already satisfied: traitlets>=4.1.0 in /usr/local/lib/python3.7/dist-packages (from ipykernel->jupyter->cosmopower) (5.1.1)\n",
            "Requirement already satisfied: jupyter-client in /usr/local/lib/python3.7/dist-packages (from ipykernel->jupyter->cosmopower) (5.3.5)\n",
            "Requirement already satisfied: ipython>=4.0.0 in /usr/local/lib/python3.7/dist-packages (from ipykernel->jupyter->cosmopower) (5.5.0)\n",
            "Requirement already satisfied: tornado>=4.0 in /usr/local/lib/python3.7/dist-packages (from ipykernel->jupyter->cosmopower) (5.1.1)\n",
            "Requirement already satisfied: pickleshare in /usr/local/lib/python3.7/dist-packages (from ipython>=4.0.0->ipykernel->jupyter->cosmopower) (0.7.5)\n",
            "Requirement already satisfied: decorator in /usr/local/lib/python3.7/dist-packages (from ipython>=4.0.0->ipykernel->jupyter->cosmopower) (4.4.2)\n",
            "Requirement already satisfied: prompt-toolkit<2.0.0,>=1.0.4 in /usr/local/lib/python3.7/dist-packages (from ipython>=4.0.0->ipykernel->jupyter->cosmopower) (1.0.18)\n",
            "Requirement already satisfied: pygments in /usr/local/lib/python3.7/dist-packages (from ipython>=4.0.0->ipykernel->jupyter->cosmopower) (2.6.1)\n",
            "Requirement already satisfied: pexpect in /usr/local/lib/python3.7/dist-packages (from ipython>=4.0.0->ipykernel->jupyter->cosmopower) (4.8.0)\n",
            "Requirement already satisfied: simplegeneric>0.8 in /usr/local/lib/python3.7/dist-packages (from ipython>=4.0.0->ipykernel->jupyter->cosmopower) (0.8.1)\n",
            "Requirement already satisfied: wcwidth in /usr/local/lib/python3.7/dist-packages (from prompt-toolkit<2.0.0,>=1.0.4->ipython>=4.0.0->ipykernel->jupyter->cosmopower) (0.2.5)\n",
            "Requirement already satisfied: jupyterlab-widgets>=1.0.0 in /usr/local/lib/python3.7/dist-packages (from ipywidgets->jupyter->cosmopower) (1.1.1)\n",
            "Requirement already satisfied: widgetsnbextension~=3.6.0 in /usr/local/lib/python3.7/dist-packages (from ipywidgets->jupyter->cosmopower) (3.6.1)\n",
            "Requirement already satisfied: ipython-genutils~=0.2.0 in /usr/local/lib/python3.7/dist-packages (from ipywidgets->jupyter->cosmopower) (0.2.0)\n",
            "Requirement already satisfied: nbformat in /usr/local/lib/python3.7/dist-packages (from notebook->jupyter->cosmopower) (5.4.0)\n",
            "Requirement already satisfied: jupyter-core>=4.4.0 in /usr/local/lib/python3.7/dist-packages (from notebook->jupyter->cosmopower) (4.11.1)\n",
            "Requirement already satisfied: Send2Trash in /usr/local/lib/python3.7/dist-packages (from notebook->jupyter->cosmopower) (1.8.0)\n",
            "Requirement already satisfied: terminado>=0.8.1 in /usr/local/lib/python3.7/dist-packages (from notebook->jupyter->cosmopower) (0.13.3)\n",
            "Requirement already satisfied: jinja2 in /usr/local/lib/python3.7/dist-packages (from notebook->jupyter->cosmopower) (2.11.3)\n",
            "Requirement already satisfied: pyzmq>=13 in /usr/local/lib/python3.7/dist-packages (from jupyter-client->ipykernel->jupyter->cosmopower) (23.2.0)\n",
            "Requirement already satisfied: python-dateutil>=2.1 in /usr/local/lib/python3.7/dist-packages (from jupyter-client->ipykernel->jupyter->cosmopower) (2.8.2)\n",
            "Requirement already satisfied: ptyprocess in /usr/local/lib/python3.7/dist-packages (from terminado>=0.8.1->notebook->jupyter->cosmopower) (0.7.0)\n",
            "Requirement already satisfied: MarkupSafe>=0.23 in /usr/local/lib/python3.7/dist-packages (from jinja2->notebook->jupyter->cosmopower) (2.0.1)\n",
            "Requirement already satisfied: pyparsing!=2.0.4,!=2.1.2,!=2.1.6,>=2.0.1 in /usr/local/lib/python3.7/dist-packages (from matplotlib->cosmopower) (3.0.9)\n",
            "Requirement already satisfied: kiwisolver>=1.0.1 in /usr/local/lib/python3.7/dist-packages (from matplotlib->cosmopower) (1.4.3)\n",
            "Requirement already satisfied: cycler>=0.10 in /usr/local/lib/python3.7/dist-packages (from matplotlib->cosmopower) (0.11.0)\n",
            "Collecting pymdown-extensions>=9.4\n",
            "  Downloading pymdown_extensions-9.5-py3-none-any.whl (217 kB)\n",
            "\u001b[K     |████████████████████████████████| 217 kB 71.7 MB/s \n",
            "\u001b[?25hCollecting mkdocs-material-extensions>=1.0.3\n",
            "  Downloading mkdocs_material_extensions-1.0.3-py3-none-any.whl (8.1 kB)\n",
            "Collecting mkdocs>=1.3.0\n",
            "  Downloading mkdocs-1.3.0-py3-none-any.whl (3.7 MB)\n",
            "\u001b[K     |████████████████████████████████| 3.7 MB 40.7 MB/s \n",
            "\u001b[?25hCollecting pygments\n",
            "  Downloading Pygments-2.12.0-py3-none-any.whl (1.1 MB)\n",
            "\u001b[K     |████████████████████████████████| 1.1 MB 62.6 MB/s \n",
            "\u001b[?25hCollecting jinja2\n",
            "  Downloading Jinja2-3.1.2-py3-none-any.whl (133 kB)\n",
            "\u001b[K     |████████████████████████████████| 133 kB 69.5 MB/s \n",
            "\u001b[?25hCollecting watchdog>=2.0\n",
            "  Downloading watchdog-2.1.9-py3-none-manylinux2014_x86_64.whl (78 kB)\n",
            "\u001b[K     |████████████████████████████████| 78 kB 8.6 MB/s \n",
            "\u001b[?25hRequirement already satisfied: click>=3.3 in /usr/local/lib/python3.7/dist-packages (from mkdocs>=1.3.0->mkdocs-material->cosmopower) (7.1.2)\n",
            "Collecting mergedeep>=1.3.4\n",
            "  Downloading mergedeep-1.3.4-py3-none-any.whl (6.4 kB)\n",
            "Requirement already satisfied: packaging>=20.5 in /usr/local/lib/python3.7/dist-packages (from mkdocs>=1.3.0->mkdocs-material->cosmopower) (21.3)\n",
            "Collecting pyyaml-env-tag>=0.1\n",
            "  Downloading pyyaml_env_tag-0.1-py3-none-any.whl (3.9 kB)\n",
            "Requirement already satisfied: PyYAML>=3.10 in /usr/local/lib/python3.7/dist-packages (from mkdocs>=1.3.0->mkdocs-material->cosmopower) (3.13)\n",
            "Collecting ghp-import>=1.0\n",
            "  Downloading ghp_import-2.1.0-py3-none-any.whl (11 kB)\n",
            "Collecting mkdocs-autorefs>=0.3.1\n",
            "  Downloading mkdocs_autorefs-0.4.1-py3-none-any.whl (9.8 kB)\n",
            "Requirement already satisfied: bleach in /usr/local/lib/python3.7/dist-packages (from nbconvert->jupyter->cosmopower) (5.0.1)\n",
            "Requirement already satisfied: defusedxml in /usr/local/lib/python3.7/dist-packages (from nbconvert->jupyter->cosmopower) (0.7.1)\n",
            "Requirement already satisfied: mistune<2,>=0.8.1 in /usr/local/lib/python3.7/dist-packages (from nbconvert->jupyter->cosmopower) (0.8.4)\n",
            "Requirement already satisfied: pandocfilters>=1.4.1 in /usr/local/lib/python3.7/dist-packages (from nbconvert->jupyter->cosmopower) (1.5.0)\n",
            "Requirement already satisfied: entrypoints>=0.2.2 in /usr/local/lib/python3.7/dist-packages (from nbconvert->jupyter->cosmopower) (0.4)\n",
            "Requirement already satisfied: testpath in /usr/local/lib/python3.7/dist-packages (from nbconvert->jupyter->cosmopower) (0.6.0)\n",
            "Requirement already satisfied: jsonschema>=2.6 in /usr/local/lib/python3.7/dist-packages (from nbformat->notebook->jupyter->cosmopower) (4.3.3)\n",
            "Requirement already satisfied: fastjsonschema in /usr/local/lib/python3.7/dist-packages (from nbformat->notebook->jupyter->cosmopower) (2.15.3)\n",
            "Requirement already satisfied: pyrsistent!=0.17.0,!=0.17.1,!=0.17.2,>=0.14.0 in /usr/local/lib/python3.7/dist-packages (from jsonschema>=2.6->nbformat->notebook->jupyter->cosmopower) (0.18.1)\n",
            "Requirement already satisfied: attrs>=17.4.0 in /usr/local/lib/python3.7/dist-packages (from jsonschema>=2.6->nbformat->notebook->jupyter->cosmopower) (21.4.0)\n",
            "Requirement already satisfied: importlib-resources>=1.4.0 in /usr/local/lib/python3.7/dist-packages (from jsonschema>=2.6->nbformat->notebook->jupyter->cosmopower) (5.8.0)\n",
            "Requirement already satisfied: webencodings in /usr/local/lib/python3.7/dist-packages (from bleach->nbconvert->jupyter->cosmopower) (0.5.1)\n",
            "Requirement already satisfied: scipy in /usr/local/lib/python3.7/dist-packages (from pyDOE->cosmopower) (1.7.3)\n",
            "Requirement already satisfied: py>=1.5.0 in /usr/local/lib/python3.7/dist-packages (from pytest->cosmopower) (1.11.0)\n",
            "Requirement already satisfied: pluggy<0.8,>=0.5 in /usr/local/lib/python3.7/dist-packages (from pytest->cosmopower) (0.7.1)\n",
            "Requirement already satisfied: atomicwrites>=1.0 in /usr/local/lib/python3.7/dist-packages (from pytest->cosmopower) (1.4.1)\n",
            "Requirement already satisfied: more-itertools>=4.0.0 in /usr/local/lib/python3.7/dist-packages (from pytest->cosmopower) (8.13.0)\n",
            "Requirement already satisfied: qtpy>=2.0.1 in /usr/local/lib/python3.7/dist-packages (from qtconsole->jupyter->cosmopower) (2.1.0)\n",
            "Requirement already satisfied: PySocks!=1.5.7,>=1.5.6 in /usr/local/lib/python3.7/dist-packages (from requests<3,>=2.21.0->tensorboard<2.9,>=2.8->tensorflow>2.0->cosmopower) (1.7.1)\n",
            "Requirement already satisfied: scikit-learn in /usr/local/lib/python3.7/dist-packages (from sklearn->cosmopower) (1.0.2)\n",
            "Requirement already satisfied: joblib>=0.11 in /usr/local/lib/python3.7/dist-packages (from scikit-learn->sklearn->cosmopower) (1.1.0)\n",
            "Requirement already satisfied: threadpoolctl>=2.0.0 in /usr/local/lib/python3.7/dist-packages (from scikit-learn->sklearn->cosmopower) (3.1.0)\n",
            "Requirement already satisfied: dm-tree in /usr/local/lib/python3.7/dist-packages (from tensorflow-probability->cosmopower) (0.1.7)\n",
            "Requirement already satisfied: cloudpickle>=1.3 in /usr/local/lib/python3.7/dist-packages (from tensorflow-probability->cosmopower) (1.3.0)\n",
            "Building wheels for collected packages: pyDOE\n",
            "  Building wheel for pyDOE (setup.py) ... \u001b[?25l\u001b[?25hdone\n",
            "  Created wheel for pyDOE: filename=pyDOE-0.3.8-py3-none-any.whl size=18184 sha256=dd6f6fc7da620c169d86c1357ef41360d4b39dad1675023d186776d199bea7cb\n",
            "  Stored in directory: /root/.cache/pip/wheels/83/ce/8a/87b25c685bfeca1872d13b8dc101e087a9c6e3fb5ebb47022a\n",
            "Successfully built pyDOE\n",
            "Installing collected packages: pygments, jinja2, watchdog, pyyaml-env-tag, mergedeep, ghp-import, mkdocs, pymdown-extensions, mkdocs-material-extensions, mkdocs-autorefs, pyDOE, mkdocstrings, mkdocs-material, cosmopower\n",
            "  Attempting uninstall: pygments\n",
            "    Found existing installation: Pygments 2.6.1\n",
            "    Uninstalling Pygments-2.6.1:\n",
            "      Successfully uninstalled Pygments-2.6.1\n",
            "  Attempting uninstall: jinja2\n",
            "    Found existing installation: Jinja2 2.11.3\n",
            "    Uninstalling Jinja2-2.11.3:\n",
            "      Successfully uninstalled Jinja2-2.11.3\n",
            "\u001b[31mERROR: pip's dependency resolver does not currently take into account all the packages that are installed. This behaviour is the source of the following dependency conflicts.\n",
            "flask 1.1.4 requires Jinja2<3.0,>=2.10.1, but you have jinja2 3.1.2 which is incompatible.\n",
            "datascience 0.10.6 requires folium==0.2.1, but you have folium 0.8.3 which is incompatible.\u001b[0m\n",
            "Successfully installed cosmopower-0.1.0 ghp-import-2.1.0 jinja2-3.1.2 mergedeep-1.3.4 mkdocs-1.3.0 mkdocs-autorefs-0.4.1 mkdocs-material-8.3.9 mkdocs-material-extensions-1.0.3 mkdocstrings-0.19.0 pyDOE-0.3.8 pygments-2.12.0 pymdown-extensions-9.5 pyyaml-env-tag-0.1 watchdog-2.1.9\n"
          ]
        },
        {
          "output_type": "display_data",
          "data": {
            "application/vnd.colab-display-data+json": {
              "pip_warning": {
                "packages": [
                  "pygments"
                ]
              }
            }
          },
          "metadata": {}
        }
      ]
    },
    {
      "cell_type": "markdown",
      "source": [
        "Reading training set"
      ],
      "metadata": {
        "id": "QfSBzaWAvDnE"
      }
    },
    {
      "cell_type": "code",
      "source": [
        "from google.colab import drive\n",
        "drive.mount('/content/drive')"
      ],
      "metadata": {
        "colab": {
          "base_uri": "https://localhost:8080/"
        },
        "id": "qkQOfH3Mu4FT",
        "outputId": "b1cee588-cf6e-4c75-9f7e-a03a2d3e01ee"
      },
      "execution_count": null,
      "outputs": [
        {
          "output_type": "stream",
          "name": "stdout",
          "text": [
            "Mounted at /content/drive\n"
          ]
        }
      ]
    },
    {
      "cell_type": "code",
      "source": [
        "#download to collab\n",
        "import gdown\n",
        "gdown.download_folder('https://drive.google.com/drive/folders/1SMSt0oLe21-jaw0LMsmVnJFuNjTUDSwJ')"
      ],
      "metadata": {
        "colab": {
          "base_uri": "https://localhost:8080/"
        },
        "id": "FnQXAhkQwFLA",
        "outputId": "eef37d3d-2452-400a-b1f5-fc191d5d9c29"
      },
      "execution_count": null,
      "outputs": [
        {
          "output_type": "stream",
          "name": "stderr",
          "text": [
            "Retrieving folder list\n"
          ]
        },
        {
          "output_type": "stream",
          "name": "stdout",
          "text": [
            "Processing file 1G3XFZa-1aFxyzxf4NKCvJyG2EgMMBmKh input_cosmo.npy\n",
            "Processing file 1vD7N5VDsDi36y4jaDW2VDdtD8rjUSlAz lhs_cosmo.npz\n",
            "Processing file 1qMfUDU9p3E8Dv7NUyfyo2crJ7HIXhveK matter_pk_k.npy\n",
            "Processing file 11mw_U6Jx0tbbVXLYY0f4knSRKc-ZKU98 matter_pk_z.npy\n",
            "Processing file 1KQZ2Svh4ot0OPtUWErR6_jrB-DnY-hQ6 matter_pk.npy\n",
            "Building directory structure completed\n"
          ]
        },
        {
          "output_type": "stream",
          "name": "stderr",
          "text": [
            "Retrieving folder list completed\n",
            "Building directory structure\n",
            "Downloading...\n",
            "From: https://drive.google.com/uc?id=1G3XFZa-1aFxyzxf4NKCvJyG2EgMMBmKh\n",
            "To: /content/DES_y6_training_pk/input_cosmo.npy\n",
            "100%|██████████| 288/288 [00:00<00:00, 121kB/s]\n",
            "Downloading...\n",
            "From: https://drive.google.com/uc?id=1vD7N5VDsDi36y4jaDW2VDdtD8rjUSlAz\n",
            "To: /content/DES_y6_training_pk/lhs_cosmo.npz\n",
            "100%|██████████| 666/666 [00:00<00:00, 802kB/s]\n",
            "Downloading...\n",
            "From: https://drive.google.com/uc?id=1qMfUDU9p3E8Dv7NUyfyo2crJ7HIXhveK\n",
            "To: /content/DES_y6_training_pk/matter_pk_k.npy\n",
            "100%|██████████| 56.1k/56.1k [00:00<00:00, 23.8MB/s]\n",
            "Downloading...\n",
            "From: https://drive.google.com/uc?id=11mw_U6Jx0tbbVXLYY0f4knSRKc-ZKU98\n",
            "To: /content/DES_y6_training_pk/matter_pk_z.npy\n",
            "100%|██████████| 12.1k/12.1k [00:00<00:00, 4.19MB/s]\n",
            "Downloading...\n",
            "From: https://drive.google.com/uc?id=1KQZ2Svh4ot0OPtUWErR6_jrB-DnY-hQ6\n",
            "To: /content/DES_y6_training_pk/matter_pk.npy\n",
            "100%|██████████| 8.40M/8.40M [00:00<00:00, 238MB/s]\n",
            "Download completed\n"
          ]
        },
        {
          "output_type": "execute_result",
          "data": {
            "text/plain": [
              "['/content/DES_y6_training_pk/input_cosmo.npy',\n",
              " '/content/DES_y6_training_pk/lhs_cosmo.npz',\n",
              " '/content/DES_y6_training_pk/matter_pk_k.npy',\n",
              " '/content/DES_y6_training_pk/matter_pk_z.npy',\n",
              " '/content/DES_y6_training_pk/matter_pk.npy']"
            ]
          },
          "metadata": {},
          "execution_count": 8
        }
      ]
    },
    {
      "cell_type": "code",
      "source": [
        "training_parameters = np.load('/content/DES_y6_training_pk/input_cosmo.npy')"
      ],
      "metadata": {
        "id": "UrMhUxM2vyiK"
      },
      "execution_count": null,
      "outputs": []
    },
    {
      "cell_type": "code",
      "source": [
        "pk   = np.load('/content/DES_y6_training_pk/matter_pk.npy')\n",
        "pk_k = np.load('/content/DES_y6_training_pk/matter_pk_k.npy')\n",
        "pk_z = np.load('/content/DES_y6_training_pk/matter_pk_z.npy')"
      ],
      "metadata": {
        "id": "O19hYZB5v2gB"
      },
      "execution_count": null,
      "outputs": []
    },
    {
      "cell_type": "code",
      "source": [
        "training_parameters"
      ],
      "metadata": {
        "colab": {
          "base_uri": "https://localhost:8080/"
        },
        "id": "xA7Ho77QysmX",
        "outputId": "db33e0f8-ec55-4796-d825-00458f60de7a"
      },
      "execution_count": null,
      "outputs": [
        {
          "output_type": "execute_result",
          "data": {
            "text/plain": [
              "array([[3.66666667e-01, 2.00000000e-09],\n",
              "       [7.22222222e-01, 5.00000000e-09],\n",
              "       [6.33333333e-01, 2.50000000e-09],\n",
              "       [2.77777778e-01, 5.00000000e-10],\n",
              "       [9.00000000e-01, 1.50000000e-09],\n",
              "       [1.88888889e-01, 1.00000000e-09],\n",
              "       [1.00000000e-01, 3.00000000e-09],\n",
              "       [4.55555556e-01, 4.50000000e-09],\n",
              "       [8.11111111e-01, 4.00000000e-09],\n",
              "       [5.44444444e-01, 3.50000000e-09]])"
            ]
          },
          "metadata": {},
          "execution_count": 11
        }
      ]
    },
    {
      "cell_type": "markdown",
      "source": [
        "Training"
      ],
      "metadata": {
        "id": "ECZ-Rff3zxE-"
      }
    },
    {
      "cell_type": "code",
      "source": [
        "# list of parameter names, in arbitrary order\n",
        "model_parameters = ['omega_m',\n",
        "                    'A_s', \n",
        "                    ]"
      ],
      "metadata": {
        "id": "IO4KKwp8zxnH"
      },
      "execution_count": null,
      "outputs": []
    },
    {
      "cell_type": "code",
      "source": [
        "pk_k[0,:]"
      ],
      "metadata": {
        "colab": {
          "base_uri": "https://localhost:8080/"
        },
        "id": "jJrmWSXIz1CC",
        "outputId": "1e2ad5ec-bb31-40dd-e0e8-fb3f8cb3fd8e"
      },
      "execution_count": null,
      "outputs": [
        {
          "output_type": "execute_result",
          "data": {
            "text/plain": [
              "array([1.00000000e-04, 1.02231245e-04, 1.04512274e-04, 1.06844198e-04,\n",
              "       1.09228154e-04, 1.11665301e-04, 1.14156827e-04, 1.16703945e-04,\n",
              "       1.19307895e-04, 1.21969946e-04, 1.24691394e-04, 1.27473564e-04,\n",
              "       1.30317811e-04, 1.33225520e-04, 1.36198108e-04, 1.39237020e-04,\n",
              "       1.42343739e-04, 1.45519776e-04, 1.48766678e-04, 1.52086027e-04,\n",
              "       1.55479438e-04, 1.58948564e-04, 1.62495096e-04, 1.66120759e-04,\n",
              "       1.69827319e-04, 1.73616582e-04, 1.77490393e-04, 1.81450637e-04,\n",
              "       1.85499245e-04, 1.89638187e-04, 1.93869479e-04, 1.98195181e-04,\n",
              "       2.02617400e-04, 2.07138290e-04, 2.11760052e-04, 2.16484937e-04,\n",
              "       2.21315245e-04, 2.26253329e-04, 2.31301595e-04, 2.36462499e-04,\n",
              "       2.41738556e-04, 2.47132334e-04, 2.52646461e-04, 2.58283622e-04,\n",
              "       2.64046561e-04, 2.69938085e-04, 2.75961064e-04, 2.82118431e-04,\n",
              "       2.88413183e-04, 2.94848387e-04, 3.01427175e-04, 3.08152753e-04,\n",
              "       3.15028395e-04, 3.22057449e-04, 3.29243338e-04, 3.36589562e-04,\n",
              "       3.44099699e-04, 3.51777405e-04, 3.59626419e-04, 3.67650564e-04,\n",
              "       3.75853747e-04, 3.84239964e-04, 3.92813297e-04, 4.01577923e-04,\n",
              "       4.10538108e-04, 4.19698218e-04, 4.29062711e-04, 4.38636150e-04,\n",
              "       4.48423195e-04, 4.58428614e-04, 4.68657277e-04, 4.79114168e-04,\n",
              "       4.89804377e-04, 5.00733110e-04, 5.11905691e-04, 5.23327559e-04,\n",
              "       5.35004277e-04, 5.46941531e-04, 5.59145134e-04, 5.71621030e-04,\n",
              "       5.84375293e-04, 5.97414135e-04, 6.10743906e-04, 6.24371096e-04,\n",
              "       6.38302343e-04, 6.52544429e-04, 6.67104291e-04, 6.81989020e-04,\n",
              "       6.97205863e-04, 7.12762231e-04, 7.28665700e-04, 7.44924014e-04,\n",
              "       7.61545091e-04, 7.78537025e-04, 7.95908090e-04, 8.13666746e-04,\n",
              "       8.31821641e-04, 8.50381617e-04, 8.69355711e-04, 8.88753163e-04,\n",
              "       9.08583420e-04, 9.28856139e-04, 9.49581191e-04, 9.70768670e-04,\n",
              "       9.92428893e-04, 1.01457241e-03, 1.03721000e-03, 1.06035269e-03,\n",
              "       1.08401176e-03, 1.10819871e-03, 1.13292533e-03, 1.15820367e-03,\n",
              "       1.18404603e-03, 1.21046499e-03, 1.23747342e-03, 1.26508448e-03,\n",
              "       1.29331161e-03, 1.32216856e-03, 1.35166937e-03, 1.38182842e-03,\n",
              "       1.41266039e-03, 1.44418030e-03, 1.47640350e-03, 1.50934567e-03,\n",
              "       1.54302286e-03, 1.57745148e-03, 1.61264828e-03, 1.64863041e-03,\n",
              "       1.68541538e-03, 1.72302112e-03, 1.76146594e-03, 1.80076855e-03,\n",
              "       1.84094810e-03, 1.88202416e-03, 1.92401672e-03, 1.96694624e-03,\n",
              "       2.01083362e-03, 2.05570024e-03, 2.10156794e-03, 2.14845906e-03,\n",
              "       2.19639644e-03, 2.24540341e-03, 2.29550386e-03, 2.34672216e-03,\n",
              "       2.39908327e-03, 2.45261269e-03, 2.50733648e-03, 2.56328129e-03,\n",
              "       2.62047436e-03, 2.67894355e-03, 2.73871734e-03, 2.79982482e-03,\n",
              "       2.86229576e-03, 2.92616058e-03, 2.99145038e-03, 3.05819696e-03,\n",
              "       3.12643281e-03, 3.19619117e-03, 3.26750602e-03, 3.34041207e-03,\n",
              "       3.41494483e-03, 3.49114060e-03, 3.56903649e-03, 3.64867042e-03,\n",
              "       3.73008118e-03, 3.81330842e-03, 3.89839266e-03, 3.98537533e-03,\n",
              "       4.07429881e-03, 4.16520638e-03, 4.25814232e-03, 4.35315189e-03,\n",
              "       4.45028136e-03, 4.54957802e-03, 4.65109023e-03, 4.75486743e-03,\n",
              "       4.86096015e-03, 4.96942007e-03, 5.08029998e-03, 5.19365390e-03,\n",
              "       5.30953702e-03, 5.42800578e-03, 5.54911787e-03, 5.67293226e-03,\n",
              "       5.79950925e-03, 5.92891049e-03, 6.06119899e-03, 6.19643916e-03,\n",
              "       6.33469688e-03, 6.47603946e-03, 6.62053574e-03, 6.76825608e-03,\n",
              "       6.91927243e-03, 7.07365832e-03, 7.23148894e-03, 7.39284115e-03,\n",
              "       7.55779352e-03, 7.72642638e-03, 7.89882185e-03, 8.07506389e-03,\n",
              "       8.25523831e-03, 8.43943287e-03, 8.62773726e-03, 8.82024318e-03,\n",
              "       9.01704438e-03, 9.21823670e-03, 9.42391811e-03, 9.63418877e-03,\n",
              "       9.84915109e-03, 1.00689097e-02, 1.02935717e-02, 1.05232465e-02,\n",
              "       1.07580459e-02, 1.09980842e-02, 1.12434784e-02, 1.14943479e-02,\n",
              "       1.17508149e-02, 1.20130043e-02, 1.22810438e-02, 1.25550639e-02,\n",
              "       1.28351981e-02, 1.31215828e-02, 1.34143574e-02, 1.37136645e-02,\n",
              "       1.40196499e-02, 1.43324626e-02, 1.46522549e-02, 1.49791825e-02,\n",
              "       1.53134047e-02, 1.56550842e-02, 1.60043875e-02, 1.63614845e-02,\n",
              "       1.67265492e-02, 1.70997595e-02, 1.74812969e-02, 1.78713474e-02,\n",
              "       1.82701009e-02, 1.86777515e-02, 1.90944979e-02, 1.95205428e-02,\n",
              "       1.99560939e-02, 2.04013631e-02, 2.08565674e-02, 2.13219285e-02,\n",
              "       2.17976729e-02, 2.22840323e-02, 2.27812435e-02, 2.32895488e-02,\n",
              "       2.38091956e-02, 2.43404370e-02, 2.48835317e-02, 2.54387441e-02,\n",
              "       2.60063447e-02, 2.65866099e-02, 2.71798222e-02, 2.77862705e-02,\n",
              "       2.84062501e-02, 2.90400631e-02, 2.96880179e-02, 3.03504302e-02,\n",
              "       3.10276225e-02, 3.17199247e-02, 3.24276738e-02, 3.31512145e-02,\n",
              "       3.38908992e-02, 3.46470881e-02, 3.54201493e-02, 3.62104595e-02,\n",
              "       3.70184034e-02, 3.78443746e-02, 3.86887751e-02, 3.95520163e-02,\n",
              "       4.04345185e-02, 4.13367116e-02, 4.22590347e-02, 4.32019371e-02,\n",
              "       4.41658780e-02, 4.51513268e-02, 4.61587633e-02, 4.71886782e-02,\n",
              "       4.82415731e-02, 4.93179606e-02, 5.04183649e-02, 5.15433219e-02,\n",
              "       5.26933795e-02, 5.38690977e-02, 5.50710490e-02, 5.62998189e-02,\n",
              "       5.75560055e-02, 5.88402208e-02, 6.01530900e-02, 6.14952526e-02,\n",
              "       6.28673621e-02, 6.42700867e-02, 6.57041096e-02, 6.71701290e-02,\n",
              "       6.86688588e-02, 7.02010290e-02, 7.17673857e-02, 7.33686916e-02,\n",
              "       7.50057266e-02, 7.66792878e-02, 7.83901903e-02, 8.01392672e-02,\n",
              "       8.19273702e-02, 8.37553703e-02, 8.56241574e-02, 8.75346418e-02,\n",
              "       8.94877538e-02, 9.14844445e-02, 9.35256862e-02, 9.56124730e-02,\n",
              "       9.77458211e-02, 9.99267695e-02, 1.02156380e-01, 1.04435739e-01,\n",
              "       1.06765956e-01, 1.09148165e-01, 1.11583528e-01, 1.14073229e-01,\n",
              "       1.16618482e-01, 1.19220526e-01, 1.21880627e-01, 1.24600082e-01,\n",
              "       1.27380215e-01, 1.30222379e-01, 1.33127959e-01, 1.36098369e-01,\n",
              "       1.39135056e-01, 1.42239500e-01, 1.45413211e-01, 1.48657735e-01,\n",
              "       1.51974653e-01, 1.55365579e-01, 1.58832165e-01, 1.62376100e-01,\n",
              "       1.65999108e-01, 1.69702954e-01, 1.73489442e-01, 1.77360415e-01,\n",
              "       1.81317760e-01, 1.85363403e-01, 1.89499314e-01, 1.93727507e-01,\n",
              "       1.98050042e-01, 2.02469022e-01, 2.06986601e-01, 2.11604979e-01,\n",
              "       2.16326404e-01, 2.21153175e-01, 2.26087643e-01, 2.31132211e-01,\n",
              "       2.36289336e-01, 2.41561529e-01, 2.46951358e-01, 2.52461447e-01,\n",
              "       2.58094479e-01, 2.63853198e-01, 2.69740408e-01, 2.75758977e-01,\n",
              "       2.81911834e-01, 2.88201977e-01, 2.94632468e-01, 3.01206439e-01,\n",
              "       3.07927091e-01, 3.14797698e-01, 3.21821604e-01, 3.29002231e-01,\n",
              "       3.36343076e-01, 3.43847713e-01, 3.51519796e-01, 3.59363063e-01,\n",
              "       3.67381332e-01, 3.75578508e-01, 3.83958583e-01, 3.92525638e-01,\n",
              "       4.01283845e-01, 4.10237469e-01, 4.19390870e-01, 4.28748507e-01,\n",
              "       4.38314935e-01, 4.48094813e-01, 4.58092904e-01, 4.68314077e-01,\n",
              "       4.78763310e-01, 4.89445690e-01, 5.00366421e-01, 5.11530820e-01,\n",
              "       5.22944323e-01, 5.34612490e-01, 5.46541003e-01, 5.58735669e-01,\n",
              "       5.71202429e-01, 5.83947352e-01, 5.96976646e-01, 6.10296655e-01,\n",
              "       6.23913866e-01, 6.37834911e-01, 6.52066567e-01, 6.66615768e-01,\n",
              "       6.81489596e-01, 6.96695296e-01, 7.12240272e-01, 7.28132094e-01,\n",
              "       7.44378502e-01, 7.60987408e-01, 7.77966898e-01, 7.95325242e-01,\n",
              "       8.13070894e-01, 8.31212494e-01, 8.49758878e-01, 8.68719077e-01,\n",
              "       8.88102325e-01, 9.07918060e-01, 9.28175932e-01, 9.48885808e-01,\n",
              "       9.70057771e-01, 9.91702133e-01, 1.01382943e+00, 1.03645045e+00,\n",
              "       1.05957619e+00, 1.08321793e+00, 1.10738717e+00, 1.13209569e+00,\n",
              "       1.15735551e+00, 1.18317894e+00, 1.20957856e+00, 1.23656722e+00,\n",
              "       1.26415805e+00, 1.29236451e+00, 1.32120033e+00, 1.35067954e+00,\n",
              "       1.38081650e+00, 1.41162589e+00, 1.44312272e+00, 1.47532232e+00,\n",
              "       1.50824037e+00, 1.54189290e+00, 1.57629630e+00, 1.61146733e+00,\n",
              "       1.64742311e+00, 1.68418115e+00, 1.72175935e+00, 1.76017601e+00,\n",
              "       1.79944984e+00, 1.83959997e+00, 1.88064594e+00, 1.92260775e+00,\n",
              "       1.96550584e+00, 2.00936108e+00, 2.05419484e+00, 2.10002895e+00,\n",
              "       2.14688573e+00, 2.19478800e+00, 2.24375909e+00, 2.29382285e+00,\n",
              "       2.34500365e+00, 2.39732641e+00, 2.45081663e+00, 2.50550034e+00,\n",
              "       2.56140418e+00, 2.61855538e+00, 2.67698175e+00, 2.73671176e+00,\n",
              "       2.79777449e+00, 2.86019969e+00, 2.92401774e+00, 2.98925973e+00,\n",
              "       3.05595742e+00, 3.12414331e+00, 3.19385059e+00, 3.26511320e+00,\n",
              "       3.33796587e+00, 3.41244405e+00, 3.48858402e+00, 3.56642287e+00,\n",
              "       3.64599848e+00, 3.72734963e+00, 3.81051591e+00, 3.89553785e+00,\n",
              "       3.98245682e+00, 4.07131518e+00, 4.16215618e+00, 4.25502406e+00,\n",
              "       4.34996405e+00, 4.44702239e+00, 4.54624634e+00, 4.64768422e+00,\n",
              "       4.75138542e+00, 4.85740045e+00, 4.96578093e+00, 5.07657965e+00,\n",
              "       5.18985056e+00, 5.30564882e+00, 5.42403083e+00, 5.54505422e+00,\n",
              "       5.66877794e+00, 5.79526224e+00, 5.92456872e+00, 6.05676034e+00,\n",
              "       6.19190148e+00, 6.33005794e+00, 6.47129702e+00, 6.61568749e+00,\n",
              "       6.76329966e+00, 6.91420541e+00, 7.06847825e+00, 7.22619329e+00,\n",
              "       7.38742733e+00, 7.55225891e+00, 7.72076828e+00, 7.89303750e+00,\n",
              "       8.06915047e+00, 8.24919296e+00, 8.43325263e+00, 8.62141912e+00,\n",
              "       8.81378407e+00, 9.01044115e+00, 9.21148614e+00, 9.41701692e+00,\n",
              "       9.62713360e+00, 9.84193850e+00, 1.00615362e+01, 1.02860337e+01,\n",
              "       1.05155403e+01, 1.07501677e+01, 1.09900302e+01, 1.12352447e+01,\n",
              "       1.14859305e+01, 1.17422097e+01, 1.20042071e+01, 1.22720503e+01,\n",
              "       1.25458698e+01, 1.28257988e+01, 1.31119738e+01, 1.34045340e+01,\n",
              "       1.37036219e+01, 1.40093832e+01, 1.43219669e+01, 1.46415250e+01,\n",
              "       1.49682132e+01, 1.53021906e+01, 1.56436200e+01, 1.59926674e+01,\n",
              "       1.63495029e+01, 1.67143003e+01, 1.70872372e+01, 1.74684953e+01,\n",
              "       1.78582601e+01, 1.82567216e+01, 1.86640737e+01, 1.90805149e+01,\n",
              "       1.95062478e+01, 1.99414799e+01, 2.03864231e+01, 2.08412941e+01,\n",
              "       2.13063143e+01, 2.17817103e+01, 2.22677135e+01, 2.27645607e+01,\n",
              "       2.32724937e+01, 2.37917600e+01, 2.43226123e+01, 2.48653093e+01,\n",
              "       2.54201152e+01, 2.59873001e+01, 2.65671404e+01, 2.71599183e+01,\n",
              "       2.77659225e+01, 2.83854481e+01, 2.90187969e+01, 2.96662772e+01,\n",
              "       3.03282044e+01, 3.10049009e+01, 3.16966960e+01, 3.24039268e+01,\n",
              "       3.31269377e+01, 3.38660807e+01, 3.46217158e+01, 3.53942110e+01,\n",
              "       3.61839424e+01, 3.69912947e+01, 3.78166609e+01, 3.86604431e+01,\n",
              "       3.95230522e+01, 4.04049081e+01, 4.13064405e+01, 4.22280882e+01,\n",
              "       4.31703001e+01, 4.41335351e+01, 4.51182622e+01, 4.61249610e+01,\n",
              "       4.71541217e+01, 4.82062455e+01, 4.92818448e+01, 5.03814433e+01,\n",
              "       5.15055765e+01, 5.26547919e+01, 5.38296491e+01, 5.50307202e+01,\n",
              "       5.62585902e+01, 5.75138570e+01, 5.87971318e+01, 6.01090396e+01,\n",
              "       6.14502193e+01, 6.28213240e+01, 6.42230214e+01, 6.56559941e+01,\n",
              "       6.71209399e+01, 6.86185723e+01, 7.01496205e+01, 7.17148301e+01,\n",
              "       7.33149634e+01, 7.49507995e+01, 7.66231352e+01, 7.83327847e+01,\n",
              "       8.00805808e+01, 8.18673744e+01, 8.36940358e+01, 8.55614544e+01,\n",
              "       8.74705398e+01, 8.94222214e+01, 9.14174499e+01, 9.34571968e+01,\n",
              "       9.55424555e+01, 9.76742414e+01, 9.98535926e+01, 1.02081571e+02,\n",
              "       1.04359260e+02, 1.06687770e+02, 1.09068235e+02, 1.11501815e+02,\n",
              "       1.13989693e+02, 1.16533082e+02, 1.19133220e+02, 1.21791373e+02,\n",
              "       1.24508837e+02, 1.27286933e+02, 1.30127016e+02, 1.33030468e+02,\n",
              "       1.35998703e+02, 1.39033167e+02, 1.42135337e+02, 1.45306724e+02,\n",
              "       1.48548873e+02, 1.51863361e+02, 1.55251804e+02, 1.58715852e+02,\n",
              "       1.62257191e+02, 1.65877546e+02, 1.69578679e+02, 1.73362394e+02,\n",
              "       1.77230534e+02, 1.81184980e+02, 1.85227660e+02, 1.89360542e+02,\n",
              "       1.93585639e+02, 1.97905008e+02, 2.02320753e+02, 2.06835024e+02,\n",
              "       2.11450019e+02, 2.16167987e+02, 2.20991223e+02, 2.25922078e+02,\n",
              "       2.30962952e+02, 2.36116300e+02, 2.41384633e+02, 2.46770514e+02,\n",
              "       2.52276568e+02, 2.57905475e+02, 2.63659977e+02, 2.69542876e+02,\n",
              "       2.75557037e+02, 2.81705389e+02, 2.87990925e+02, 2.94416707e+02,\n",
              "       3.00985864e+02, 3.07701594e+02, 3.14567170e+02, 3.21585933e+02,\n",
              "       3.28761301e+02, 3.36096770e+02, 3.43595911e+02, 3.51262376e+02,\n",
              "       3.59099899e+02, 3.67112296e+02, 3.75303470e+02, 3.83677408e+02,\n",
              "       3.92238189e+02, 4.00989983e+02, 4.09937050e+02, 4.19083748e+02,\n",
              "       4.28434532e+02, 4.37993954e+02, 4.47766671e+02, 4.57757440e+02,\n",
              "       4.67971129e+02, 4.78412709e+02, 4.89087267e+02, 5.00000000e+02])"
            ]
          },
          "metadata": {},
          "execution_count": 13
        }
      ]
    },
    {
      "cell_type": "code",
      "source": [
        "from cosmopower import cosmopower_NN\n"
      ],
      "metadata": {
        "id": "tk9nf8n70Cin"
      },
      "execution_count": null,
      "outputs": []
    },
    {
      "cell_type": "code",
      "source": [
        "# instantiate NN class\n",
        "cp_nn = cosmopower_NN(parameters=model_parameters, \n",
        "                      modes=pk_k[0,:], \n",
        "                      n_hidden = [512, 512], # 4 hidden layers, each with 512 nodes\n",
        "                      verbose=True, # useful to understand the different steps in initialisation and training\n",
        "                      )"
      ],
      "metadata": {
        "colab": {
          "base_uri": "https://localhost:8080/"
        },
        "id": "CX8lVsMi0Hw2",
        "outputId": "6bd843ed-af48-477a-eb34-0db8afd6f803"
      },
      "execution_count": null,
      "outputs": [
        {
          "output_type": "stream",
          "name": "stdout",
          "text": [
            "\n",
            "Initialized cosmopower_NN model, \n",
            "mapping 2 input parameters to 700 output modes, \n",
            "using 2 hidden layers, \n",
            "with [512, 512] nodes, respectively. \n",
            "\n"
          ]
        }
      ]
    },
    {
      "cell_type": "code",
      "source": [
        "training_parameters_nn = {'omega_m':training_parameters[:,0],'A_s':training_parameters[:,1]} "
      ],
      "metadata": {
        "id": "bxzBXv3wHXB0"
      },
      "execution_count": null,
      "outputs": []
    },
    {
      "cell_type": "code",
      "source": [
        "pk[:,0,:].shape"
      ],
      "metadata": {
        "colab": {
          "base_uri": "https://localhost:8080/"
        },
        "id": "wqwvdiA2IM1o",
        "outputId": "68811c69-020a-4b05-869b-feea1f30fb94"
      },
      "execution_count": null,
      "outputs": [
        {
          "output_type": "execute_result",
          "data": {
            "text/plain": [
              "(10, 700)"
            ]
          },
          "metadata": {},
          "execution_count": 21
        }
      ]
    },
    {
      "cell_type": "code",
      "source": [
        "with tf.device('/device:GPU:0'): # ensures we are running on a GPU\n",
        "    # train\n",
        "    cp_nn.train(training_parameters=training_parameters_nn,\n",
        "                training_features=pk[:,0,:],\n",
        "                filename_saved_model='pk_NN_z0_example',\n",
        "                # cooling schedule\n",
        "                validation_split=0.1,\n",
        "                learning_rates=[1e-2, 1e-3, 1e-4, 1e-5, 1e-6],\n",
        "                batch_sizes=[1024, 1024, 1024, 1024, 1024],\n",
        "                gradient_accumulation_steps = [1, 1, 1, 1, 1],\n",
        "                # early stopping set up\n",
        "                patience_values = [100,100,100,100,100],\n",
        "                max_epochs = [1000,1000,1000,1000,1000],\n",
        "                )"
      ],
      "metadata": {
        "colab": {
          "base_uri": "https://localhost:8080/"
        },
        "id": "ibKtxLqF0Vy9",
        "outputId": "4ff17985-8f24-40f3-8dbd-11ef6ec7391c"
      },
      "execution_count": null,
      "outputs": [
        {
          "output_type": "stream",
          "name": "stdout",
          "text": [
            "Starting cosmopower_NN training, \n",
            "using 10 per cent of training samples for validation. \n",
            "Performing 5 learning steps, with \n",
            "[0.01, 0.001, 0.0001, 1e-05, 1e-06] learning rates \n",
            "[1024, 1024, 1024, 1024, 1024] batch sizes \n",
            "[1, 1, 1, 1, 1] gradient accumulation steps \n",
            "[100, 100, 100, 100, 100] patience values \n",
            "[1000, 1000, 1000, 1000, 1000] max epochs \n",
            "\n",
            "learning rate = 0.01, batch size = 1024\n"
          ]
        },
        {
          "output_type": "stream",
          "name": "stderr",
          "text": [
            " 15%|█▍        | 146/1000 [00:06<00:37, 23.08it/s, loss=3.51e+3]\n"
          ]
        },
        {
          "output_type": "stream",
          "name": "stdout",
          "text": [
            "Validation loss = 3023.1028\n",
            "Model saved.\n",
            "Reached max number of epochs. Validation loss = 3023.1028\n",
            "Model saved.\n",
            "learning rate = 0.001, batch size = 1024\n"
          ]
        },
        {
          "output_type": "stream",
          "name": "stderr",
          "text": [
            " 10%|█         | 100/1000 [00:01<00:17, 51.45it/s, loss=3.8e+3]\n"
          ]
        },
        {
          "output_type": "stream",
          "name": "stdout",
          "text": [
            "Validation loss = 3584.388\n",
            "Model saved.\n",
            "Reached max number of epochs. Validation loss = 3584.388\n",
            "Model saved.\n",
            "learning rate = 0.0001, batch size = 1024\n"
          ]
        },
        {
          "output_type": "stream",
          "name": "stderr",
          "text": [
            " 10%|█         | 100/1000 [00:01<00:17, 52.18it/s, loss=1.08e+3]\n"
          ]
        },
        {
          "output_type": "stream",
          "name": "stdout",
          "text": [
            "Validation loss = 18.370277\n",
            "Model saved.\n",
            "Reached max number of epochs. Validation loss = 18.370277\n",
            "Model saved.\n",
            "learning rate = 1e-05, batch size = 1024\n"
          ]
        },
        {
          "output_type": "stream",
          "name": "stderr",
          "text": [
            " 10%|█         | 100/1000 [00:02<00:21, 41.81it/s, loss=161]\n"
          ]
        },
        {
          "output_type": "stream",
          "name": "stdout",
          "text": [
            "Validation loss = 107.23137\n",
            "Model saved.\n",
            "Reached max number of epochs. Validation loss = 107.23137\n",
            "Model saved.\n",
            "learning rate = 1e-06, batch size = 1024\n"
          ]
        },
        {
          "output_type": "stream",
          "name": "stderr",
          "text": [
            " 10%|█         | 100/1000 [00:01<00:17, 51.67it/s, loss=375]\n"
          ]
        },
        {
          "output_type": "stream",
          "name": "stdout",
          "text": [
            "Validation loss = 340.23853\n",
            "Model saved.\n",
            "Reached max number of epochs. Validation loss = 340.23853\n",
            "Model saved.\n"
          ]
        }
      ]
    },
    {
      "cell_type": "markdown",
      "source": [
        "Testing"
      ],
      "metadata": {
        "id": "gA5YzL5dKDJE"
      }
    },
    {
      "cell_type": "code",
      "source": [
        "ls"
      ],
      "metadata": {
        "colab": {
          "base_uri": "https://localhost:8080/"
        },
        "id": "0ZXYrXISIiv1",
        "outputId": "11555b75-edeb-406f-8a05-63197eeaba19"
      },
      "execution_count": null,
      "outputs": [
        {
          "output_type": "stream",
          "name": "stdout",
          "text": [
            "\u001b[0m\u001b[01;34mDES_y6_training_pk\u001b[0m/  \u001b[01;34mdrive\u001b[0m/  pk_NN_z0_example.pkl  \u001b[01;34msample_data\u001b[0m/\n"
          ]
        }
      ]
    },
    {
      "cell_type": "code",
      "source": [
        "p_nn = cosmopower_NN(restore=True, \n",
        "                      restore_filename='pk_NN_z0_example',\n",
        "                      )"
      ],
      "metadata": {
        "id": "Rn_y8FLiKAlN"
      },
      "execution_count": null,
      "outputs": []
    },
    {
      "cell_type": "code",
      "source": [
        "predicted_testing_spectra = cp_nn.ten_to_predictions_np(training_parameters_nn)"
      ],
      "metadata": {
        "colab": {
          "base_uri": "https://localhost:8080/"
        },
        "id": "zgOKbNhKKG2c",
        "outputId": "e5e6550a-d416-464e-af73-8b857f13ddbe"
      },
      "execution_count": null,
      "outputs": [
        {
          "output_type": "stream",
          "name": "stderr",
          "text": [
            "/usr/local/lib/python3.7/dist-packages/cosmopower/cosmopower_NN.py:383: RuntimeWarning: overflow encountered in power\n",
            "  return 10.**self.predictions_np(parameters_dict)\n"
          ]
        }
      ]
    },
    {
      "cell_type": "code",
      "source": [
        "pred.shape"
      ],
      "metadata": {
        "colab": {
          "base_uri": "https://localhost:8080/"
        },
        "id": "wzdyfXvJKuKt",
        "outputId": "df78e398-7303-4d28-fd4d-0fe944301586"
      },
      "execution_count": null,
      "outputs": [
        {
          "output_type": "execute_result",
          "data": {
            "text/plain": [
              "(150, 700)"
            ]
          },
          "metadata": {},
          "execution_count": 42
        }
      ]
    },
    {
      "cell_type": "code",
      "source": [
        "from matplotlib import gridspec\n",
        "fig, ax = plt.subplots(nrows=1, ncols=3, figsize=(50,10))\n",
        "for i in range(3):\n",
        "    pred = predicted_testing_spectra[i]\n",
        "    true = pk[i][0]\n",
        "    ax[i].semilogx(pk_k[i], true, 'blue', label = 'Original')\n",
        "    ax[i].semilogx(pk_k[i], pred, 'red', label = 'NN reconstructed', linestyle='--')\n",
        "    ax[i].set_xlabel('$k$', fontsize='x-large')\n",
        "    ax[i].set_ylabel('$P(k,z=0)$', fontsize='x-large')\n",
        "    ax[i].legend(fontsize=15)\n",
        "plt.savefig('examples_reconstruction_pk.pdf')"
      ],
      "metadata": {
        "colab": {
          "base_uri": "https://localhost:8080/",
          "height": 176
        },
        "id": "snBC7jKcKNZD",
        "outputId": "90aa8911-7e9f-4d2e-b7df-4eabd483743f"
      },
      "execution_count": null,
      "outputs": [
        {
          "output_type": "display_data",
          "data": {
            "text/plain": [
              "<Figure size 3600x720 with 3 Axes>"
            ],
            "image/png": "[encoded data removed]"
          },
          "metadata": {
            "needs_background": "light"
          }
        }
      ]
    },
    {
      "cell_type": "code",
      "source": [],
      "metadata": {
        "id": "zWTbxw0dKr9c"
      },
      "execution_count": null,
      "outputs": []
    }
  ]
}